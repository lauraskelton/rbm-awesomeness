{
 "metadata": {
  "name": "",
  "signature": "sha256:36bfd526900abc582d18c19209ebd24c2a67a7c0ecd3c2e1f5ee9b6fa8a91e80"
 },
 "nbformat": 3,
 "nbformat_minor": 0,
 "worksheets": [
  {
   "cells": [
    {
     "cell_type": "code",
     "collapsed": false,
     "input": [
      "pretend_activations = [0.2, 0.5, 0.6, 0.2, 0.8, 0.9, 0.7, 0.3, 0.6, 0.2, 0.5, 0.6, 0.2, 0.8, 0.9]"
     ],
     "language": "python",
     "metadata": {},
     "outputs": [],
     "prompt_number": 30
    },
    {
     "cell_type": "code",
     "collapsed": false,
     "input": [],
     "language": "python",
     "metadata": {},
     "outputs": [],
     "prompt_number": 30
    },
    {
     "cell_type": "code",
     "collapsed": false,
     "input": [
      "import numpy as np\n",
      "import pandas\n",
      "import d3py\n",
      "import datavisualizer as vis\n",
      "\n",
      "n = len(pretend_activations)\n",
      "\n",
      "df = pandas.DataFrame({\n",
      "    'd1': np.arange(0,n),\n",
      "    'd2': np.ones(n)\n",
      "})\n",
      "\n",
      "with d3py.PandasFigure(df, \"abv data\", width=400, height=400) as fig:\n",
      "    for activation in pretend_activations:\n",
      "        r,g,b = vis.rgbMix(activation, 1.0, 0.0, red=255, green=109, blue=87)\n",
      "        fig += d3py.Point(\"d1\", \"d2\", fill='rgb('+str(r)+','+str(g)+','+str(b)+')')\n",
      "    fig.show()"
     ],
     "language": "python",
     "metadata": {},
     "outputs": []
    },
    {
     "cell_type": "code",
     "collapsed": false,
     "input": [],
     "language": "python",
     "metadata": {},
     "outputs": []
    },
    {
     "cell_type": "code",
     "collapsed": false,
     "input": [],
     "language": "python",
     "metadata": {},
     "outputs": []
    }
   ],
   "metadata": {}
  }
 ]
}