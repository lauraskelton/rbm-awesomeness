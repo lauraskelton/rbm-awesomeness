{
 "metadata": {
  "name": "",
  "signature": "sha256:b371c51f7a15f3641672b1a99ff50df0e800566fbafbd1072f68c3201db1144b"
 },
 "nbformat": 3,
 "nbformat_minor": 0,
 "worksheets": [
  {
   "cells": [
    {
     "cell_type": "code",
     "collapsed": false,
     "input": [
      "pretend_activations = [0.2, 0.5, 0.6, 0.2, 0.8, 0.9, 0.7, 0.3, 0.6, 0.2, 0.5, 0.6, 0.2, 0.8, 0.9]"
     ],
     "language": "python",
     "metadata": {},
     "outputs": []
    },
    {
     "cell_type": "code",
     "collapsed": false,
     "input": [
      "activations_data = "
     ],
     "language": "python",
     "metadata": {},
     "outputs": []
    },
    {
     "cell_type": "code",
     "collapsed": false,
     "input": [
      "import numpy as np\n",
      "import pandas\n",
      "import d3py\n",
      "n = 400\n",
      "\n",
      "df = pandas.DataFrame({\n",
      "    'd1': np.arange(0,n),\n",
      "    'd2': np.random.normal(0, 1, n)\n",
      "})\n",
      "\n",
      "with d3py.PandasFigure(df, \"example scatter plot using d3py\", width=400, height=400) as fig:\n",
      "    fig += d3py.Point(\"d1\", \"d2\", fill=\"DodgerBlue\")\n",
      "    fig += d3py.xAxis('d1', label=\"Random\")\n",
      "    fig += d3py.yAxis('d2', label=\"Also random\")\n",
      "    fig.show()"
     ],
     "language": "python",
     "metadata": {},
     "outputs": []
    }
   ],
   "metadata": {}
  }
 ]
}