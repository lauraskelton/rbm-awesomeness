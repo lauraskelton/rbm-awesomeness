{
 "metadata": {
  "name": "",
  "signature": "sha256:89054a712357d00072f8a9462e49c432960ae9f36514fc39ff5063c02d555a9a"
 },
 "nbformat": 3,
 "nbformat_minor": 0,
 "worksheets": [
  {
   "cells": [
    {
     "cell_type": "code",
     "collapsed": false,
     "input": [
      "import datavisualizer as vis\n",
      "import d3py\n",
      "import networkx as nx  \n",
      "import numpy as np\n",
      "import pandas as pd\n",
      "beer_weights = vis.load_all_beer_weight_ids()\n",
      "beer_weights_data = pd.DataFrame.from_dict(beer_weights, orient='index')\n",
      "beer_extra_data = pd.read_csv('data/beer_data.csv', sep='\t', index_col='BEER_ID')"
     ],
     "language": "python",
     "metadata": {},
     "outputs": [],
     "prompt_number": 58
    },
    {
     "cell_type": "code",
     "collapsed": false,
     "input": [
      "beer_data = beer_extra_data.join(beer_weights_data, how='inner')"
     ],
     "language": "python",
     "metadata": {},
     "outputs": [],
     "prompt_number": 63
    },
    {
     "cell_type": "code",
     "collapsed": false,
     "input": [
      "beer_data[-10:]"
     ],
     "language": "python",
     "metadata": {},
     "outputs": [
      {
       "html": [
        "<div style=\"max-height:1000px;max-width:1500px;overflow:auto;\">\n",
        "<table border=\"1\" class=\"dataframe\">\n",
        "  <thead>\n",
        "    <tr style=\"text-align: right;\">\n",
        "      <th></th>\n",
        "      <th>BEER</th>\n",
        "      <th>ABV</th>\n",
        "      <th>IBU</th>\n",
        "      <th>GRAVITY</th>\n",
        "      <th>COLOR</th>\n",
        "      <th>CATEGORY_ID</th>\n",
        "      <th>CATEGORY_NAME</th>\n",
        "      <th>STYLE_ID</th>\n",
        "      <th>STYLE_NAME</th>\n",
        "      <th>0</th>\n",
        "      <th>...</th>\n",
        "      <th>5</th>\n",
        "      <th>6</th>\n",
        "      <th>7</th>\n",
        "      <th>8</th>\n",
        "      <th>9</th>\n",
        "      <th>10</th>\n",
        "      <th>11</th>\n",
        "      <th>12</th>\n",
        "      <th>13</th>\n",
        "      <th>14</th>\n",
        "    </tr>\n",
        "  </thead>\n",
        "  <tbody>\n",
        "  </tbody>\n",
        "</table>\n",
        "<p>0 rows \u00d7 24 columns</p>\n",
        "</div>"
       ],
       "metadata": {},
       "output_type": "pyout",
       "prompt_number": 64,
       "text": [
        "Empty DataFrame\n",
        "Columns: [BEER, ABV, IBU, GRAVITY, COLOR, CATEGORY_ID, CATEGORY_NAME, STYLE_ID, STYLE_NAME, 0, 1, 2, 3, 4, 5, 6, 7, 8, 9, 10, 11, 12, 13, 14]\n",
        "Index: []\n",
        "\n",
        "[0 rows x 24 columns]"
       ]
      }
     ],
     "prompt_number": 64
    },
    {
     "cell_type": "code",
     "collapsed": false,
     "input": [
      "beer_data['STYLE_ID'].sum()\n"
     ],
     "language": "python",
     "metadata": {},
     "outputs": [
      {
       "metadata": {},
       "output_type": "pyout",
       "prompt_number": 65,
       "text": [
        "0"
       ]
      }
     ],
     "prompt_number": 65
    },
    {
     "cell_type": "code",
     "collapsed": false,
     "input": [],
     "language": "python",
     "metadata": {},
     "outputs": [],
     "prompt_number": 52
    },
    {
     "cell_type": "code",
     "collapsed": false,
     "input": [],
     "language": "python",
     "metadata": {},
     "outputs": []
    }
   ],
   "metadata": {}
  }
 ]
}