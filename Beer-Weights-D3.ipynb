{
 "metadata": {
  "name": "",
  "signature": "sha256:89054a712357d00072f8a9462e49c432960ae9f36514fc39ff5063c02d555a9a"
 },
 "nbformat": 3,
 "nbformat_minor": 0,
 "worksheets": [
  {
   "cells": [
    {
     "cell_type": "code",
     "collapsed": false,
     "input": [
      "import datavisualizer as vis"
     ],
     "language": "python",
     "metadata": {},
     "outputs": [],
     "prompt_number": 1
    },
    {
     "cell_type": "code",
     "collapsed": false,
     "input": [
      "beer_weights = vis.load_all_beer_weight_ids()"
     ],
     "language": "python",
     "metadata": {},
     "outputs": [],
     "prompt_number": 2
    },
    {
     "cell_type": "code",
     "collapsed": false,
     "input": [
      "import d3py\n",
      "import networkx as nx  \n",
      "import numpy as np\n",
      "import pandas as pd"
     ],
     "language": "python",
     "metadata": {},
     "outputs": [],
     "prompt_number": 3
    },
    {
     "cell_type": "code",
     "collapsed": false,
     "input": [
      "beer_weights_data = pd.DataFrame.from_dict(beer_weights, orient='index')"
     ],
     "language": "python",
     "metadata": {},
     "outputs": [],
     "prompt_number": 4
    },
    {
     "cell_type": "code",
     "collapsed": false,
     "input": [
      "beer_weights_data.index"
     ],
     "language": "python",
     "metadata": {},
     "outputs": [
      {
       "metadata": {},
       "output_type": "pyout",
       "prompt_number": 46,
       "text": [
        "Index([u'592', u'344', u'345', u'346', u'347', u'340', u'341', u'343', u'348', u'349', u'299', u'296', u'295', u'290', u'587', u'270', u'272', u'274', u'275', u'276', u'277', u'278', u'279', u'581', u'2262', u'2263', u'2260', u'2261', u'2266', u'2267', u'2264', u'2265', u'1004', u'108', u'109', u'102', u'103', u'106', u'107', u'104', u'105', u'2046', u'2045', u'2042', u'2040', u'2049', u'1372', u'1375', u'90', u'93', u'92', u'95', u'94', u'97', u'1433', u'1623', u'1622', u'1621', u'1620', u'1627', u'1626', u'1625', u'1624', u'1999', u'1998', u'1629', u'1628', u'555', u'1376', u'556', u'551', u'550', u'553', u'552', u'1439', u'1199', u'1198', u'1191', u'1190', u'1193', u'1192', u'1195', u'1194', u'1197', u'1196', u'1759', u'1758', u'1756', u'1755', u'1754', u'1753', u'1752', u'1751', u'1750', u'1177', u'1176', u'1175', u'1174', u'1173', u'1172', ...], dtype='object')"
       ]
      }
     ],
     "prompt_number": 46
    },
    {
     "cell_type": "code",
     "collapsed": false,
     "input": [
      "beer_extra_data = pd.read_csv('data/beer_data.csv', sep='\t', index_col='BEER_ID')"
     ],
     "language": "python",
     "metadata": {},
     "outputs": [],
     "prompt_number": 58
    },
    {
     "cell_type": "code",
     "collapsed": false,
     "input": [
      "beer_extra_data.dtypes"
     ],
     "language": "python",
     "metadata": {},
     "outputs": [
      {
       "metadata": {},
       "output_type": "pyout",
       "prompt_number": 59,
       "text": [
        "BEER              object\n",
        "ABV               object\n",
        "IBU              float64\n",
        "GRAVITY          float64\n",
        "COLOR            float64\n",
        "CATEGORY_ID        int64\n",
        "CATEGORY_NAME     object\n",
        "STYLE_ID         float64\n",
        "STYLE_NAME        object\n",
        "dtype: object"
       ]
      }
     ],
     "prompt_number": 59
    },
    {
     "cell_type": "code",
     "collapsed": false,
     "input": [],
     "language": "python",
     "metadata": {},
     "outputs": [],
     "prompt_number": 61
    },
    {
     "cell_type": "code",
     "collapsed": false,
     "input": [
      "beer_extra_data.dtypes"
     ],
     "language": "python",
     "metadata": {},
     "outputs": [
      {
       "metadata": {},
       "output_type": "pyout",
       "prompt_number": 62,
       "text": [
        "BEER              object\n",
        "ABV               object\n",
        "IBU              float64\n",
        "GRAVITY          float64\n",
        "COLOR            float64\n",
        "CATEGORY_ID        int64\n",
        "CATEGORY_NAME     object\n",
        "STYLE_ID         float64\n",
        "STYLE_NAME        object\n",
        "dtype: object"
       ]
      }
     ],
     "prompt_number": 62
    },
    {
     "cell_type": "code",
     "collapsed": false,
     "input": [
      "beer_data = beer_extra_data.join(beer_weights_data, how='inner')"
     ],
     "language": "python",
     "metadata": {},
     "outputs": [],
     "prompt_number": 63
    },
    {
     "cell_type": "code",
     "collapsed": false,
     "input": [
      "beer_data[-10:]"
     ],
     "language": "python",
     "metadata": {},
     "outputs": [
      {
       "html": [
        "<div style=\"max-height:1000px;max-width:1500px;overflow:auto;\">\n",
        "<table border=\"1\" class=\"dataframe\">\n",
        "  <thead>\n",
        "    <tr style=\"text-align: right;\">\n",
        "      <th></th>\n",
        "      <th>BEER</th>\n",
        "      <th>ABV</th>\n",
        "      <th>IBU</th>\n",
        "      <th>GRAVITY</th>\n",
        "      <th>COLOR</th>\n",
        "      <th>CATEGORY_ID</th>\n",
        "      <th>CATEGORY_NAME</th>\n",
        "      <th>STYLE_ID</th>\n",
        "      <th>STYLE_NAME</th>\n",
        "      <th>0</th>\n",
        "      <th>...</th>\n",
        "      <th>5</th>\n",
        "      <th>6</th>\n",
        "      <th>7</th>\n",
        "      <th>8</th>\n",
        "      <th>9</th>\n",
        "      <th>10</th>\n",
        "      <th>11</th>\n",
        "      <th>12</th>\n",
        "      <th>13</th>\n",
        "      <th>14</th>\n",
        "    </tr>\n",
        "  </thead>\n",
        "  <tbody>\n",
        "  </tbody>\n",
        "</table>\n",
        "<p>0 rows \u00d7 24 columns</p>\n",
        "</div>"
       ],
       "metadata": {},
       "output_type": "pyout",
       "prompt_number": 64,
       "text": [
        "Empty DataFrame\n",
        "Columns: [BEER, ABV, IBU, GRAVITY, COLOR, CATEGORY_ID, CATEGORY_NAME, STYLE_ID, STYLE_NAME, 0, 1, 2, 3, 4, 5, 6, 7, 8, 9, 10, 11, 12, 13, 14]\n",
        "Index: []\n",
        "\n",
        "[0 rows x 24 columns]"
       ]
      }
     ],
     "prompt_number": 64
    },
    {
     "cell_type": "code",
     "collapsed": false,
     "input": [
      "beer_data['STYLE_ID'].sum()\n"
     ],
     "language": "python",
     "metadata": {},
     "outputs": [
      {
       "metadata": {},
       "output_type": "pyout",
       "prompt_number": 65,
       "text": [
        "0"
       ]
      }
     ],
     "prompt_number": 65
    },
    {
     "cell_type": "code",
     "collapsed": false,
     "input": [],
     "language": "python",
     "metadata": {},
     "outputs": [],
     "prompt_number": 52
    },
    {
     "cell_type": "code",
     "collapsed": false,
     "input": [],
     "language": "python",
     "metadata": {},
     "outputs": []
    }
   ],
   "metadata": {}
  }
 ]
}