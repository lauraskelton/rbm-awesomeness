{
 "metadata": {
  "name": "",
  "signature": "sha256:c95e375ca10531e242d3c30b22a77bc6c8dfb1103e2f510feb67392fc1228a28"
 },
 "nbformat": 3,
 "nbformat_minor": 0,
 "worksheets": [
  {
   "cells": [
    {
     "cell_type": "code",
     "collapsed": false,
     "input": [
      "import pandas as pd\n",
      "from vincent import (Visualization, Scale, DataRef, Data, PropertySet,\n",
      "                     Axis, ValueRef, MarkRef, MarkProperties, Mark)\n",
      "\n",
      "df = pd.DataFrame({'Data 1': [15, 29, 63, 28, 45, 73, 15, 62],\n",
      "                   'Data 2': [42, 27, 52, 18, 61, 19, 62, 33]})\n",
      "\n",
      "#Top level Visualization\n",
      "vis = Visualization(width=500, height=300)\n",
      "vis.padding = {'top': 10, 'left': 50, 'bottom': 50, 'right': 100}\n",
      "\n",
      "#Data. We're going to key Data 2 on Data 1\n",
      "vis.data.append(Data.from_pandas(df, columns=['Data 2'], key_on='Data 1', name='table'))\n",
      "\n",
      "#Scales\n",
      "vis.scales.append(Scale(name='x', type='ordinal', range='width',\n",
      "                        domain=DataRef(data='table', field=\"data.idx\")))\n",
      "vis.scales.append(Scale(name='y', range='height', nice=True,\n",
      "                        domain=DataRef(data='table', field=\"data.val\")))\n",
      "\n",
      "#Axes\n",
      "vis.axes.extend([Axis(type='x', scale='x'), Axis(type='y', scale='y')])\n",
      "\n",
      "#Marks\n",
      "enter_props = PropertySet(x=ValueRef(scale='x', field=\"data.idx\"),\n",
      "                                     y=ValueRef(scale='y', field=\"data.val\"),\n",
      "                                     width=ValueRef(scale='x', band=True, offset=-1),\n",
      "                                     y2=ValueRef(scale='y', value=0))\n",
      "update_props = PropertySet(fill=ValueRef(value='steelblue'))\n",
      "mark = Mark(type='rect', from_=MarkRef(data='table'),\n",
      "            properties=MarkProperties(enter=enter_props,\n",
      "            update=update_props))\n",
      "\n",
      "vis.marks.append(mark)\n",
      "vis.axis_titles(x='Data 1', y='Data 2')\n",
      "vis.to_json('vega.json')"
     ],
     "language": "python",
     "metadata": {},
     "outputs": [],
     "prompt_number": 18
    },
    {
     "cell_type": "code",
     "collapsed": false,
     "input": [],
     "language": "python",
     "metadata": {},
     "outputs": []
    }
   ],
   "metadata": {}
  }
 ]
}