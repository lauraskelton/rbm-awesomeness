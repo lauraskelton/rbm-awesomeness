{
 "metadata": {
  "name": "",
  "signature": "sha256:7eb39357c83c193333c2e69e99f50cc74b5e39b485402cc6f85ccdf96646f52b"
 },
 "nbformat": 3,
 "nbformat_minor": 0,
 "worksheets": [
  {
   "cells": [
    {
     "cell_type": "code",
     "collapsed": false,
     "input": [
      "import d3py\n",
      "import networkx as nx    \n",
      "G=nx.Graph()\n",
      "G.add_edge(1,2)\n",
      "G.add_edge(1,3)\n",
      "G.add_edge(3,2)\n",
      "G.add_edge(3,4)\n",
      "G.add_edge(4,2)\n",
      " \n",
      "with d3py.NetworkXFigure(G, name=\"graph\",width=200, height=200) as p:\n",
      "    p += d3py.ForceLayout()\n",
      "    p.css['.node'] = {'fill': 'blue', 'stroke': 'magenta'}\n",
      "    p.show() "
     ],
     "language": "python",
     "metadata": {},
     "outputs": [
      {
       "output_type": "stream",
       "stream": "stdout",
       "text": [
        "Exception [Errno 48] Address already in use\n"
       ]
      }
     ],
     "prompt_number": 2
    },
    {
     "cell_type": "code",
     "collapsed": false,
     "input": [],
     "language": "python",
     "metadata": {},
     "outputs": []
    }
   ],
   "metadata": {}
  }
 ]
}