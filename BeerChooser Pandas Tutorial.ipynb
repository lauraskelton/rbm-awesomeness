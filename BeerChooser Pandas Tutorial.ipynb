{
 "metadata": {
  "name": "",
  "signature": "sha256:124e05a9be4b9bc708c990b428c4dc8ea7c593a60297ce3118a0ce2191d907c5"
 },
 "nbformat": 3,
 "nbformat_minor": 0,
 "worksheets": [
  {
   "cells": [
    {
     "cell_type": "code",
     "collapsed": false,
     "input": [
      "# The usual preamble\n",
      "%matplotlib inline\n",
      "import pandas as pd\n",
      "import matplotlib.pyplot as plt\n",
      "import vincent\n",
      "vincent.initialize_notebook()\n",
      "\n",
      "# Make the graphs a bit prettier, and bigger\n",
      "pd.set_option('display.mpl_style', 'default')\n",
      "\n",
      "# This is necessary to show lots of columns in pandas 0.12. \n",
      "# Not necessary in pandas 0.13.\n",
      "pd.set_option('display.width', 5000) \n",
      "pd.set_option('display.max_columns', 60)\n",
      "\n",
      "plt.rcParams['figure.figsize'] = (15, 5)\n"
     ],
     "language": "python",
     "metadata": {},
     "outputs": [
      {
       "html": [
        "\n",
        "           <script>\n",
        "               \n",
        "                function vct_load_lib(url, callback){\n",
        "                      if(typeof d3 !== 'undefined' &&\n",
        "                         url === 'http://d3js.org/d3.v3.min.js'){\n",
        "                        callback()\n",
        "                      }\n",
        "                      var s = document.createElement('script');\n",
        "                      s.src = url;\n",
        "                      s.async = true;\n",
        "                      s.onreadystatechange = s.onload = callback;\n",
        "                      s.onerror = function(){\n",
        "                        console.warn(\"failed to load library \" + url);\n",
        "                        };\n",
        "                      document.getElementsByTagName(\"head\")[0].appendChild(s);\n",
        "                };\n",
        "                var vincent_event = new CustomEvent(\n",
        "                  \"vincent_libs_loaded\",\n",
        "                  {bubbles: true, cancelable: true}\n",
        "                );\n",
        "                \n",
        "               function load_all_libs(){\n",
        "                  console.log('Loading Vincent libs...')\n",
        "                  vct_load_lib('http://d3js.org/d3.v3.min.js', function(){\n",
        "                  vct_load_lib('http://d3js.org/d3.geo.projection.v0.min.js', function(){\n",
        "                  vct_load_lib('http://wrobstory.github.io/d3-cloud/d3.layout.cloud.js', function(){\n",
        "                  vct_load_lib('http://wrobstory.github.io/vega/vega.v1.3.3.js', function(){\n",
        "                  window.dispatchEvent(vincent_event);\n",
        "                  });\n",
        "                  });\n",
        "                  });\n",
        "                  });\n",
        "               };\n",
        "               if(typeof define === \"function\" && define.amd){\n",
        "                    if (window['d3'] === undefined ||\n",
        "                        window['topojson'] === undefined){\n",
        "                        require.config(\n",
        "                            {paths: {\n",
        "                              d3: 'http://d3js.org/d3.v3.min',\n",
        "                              topojson: 'http://d3js.org/topojson.v1.min'\n",
        "                              }\n",
        "                            }\n",
        "                          );\n",
        "                        require([\"d3\"], function(d3){\n",
        "                            console.log('Loading Vincent from require.js...')\n",
        "                            window.d3 = d3;\n",
        "                            require([\"topojson\"], function(topojson){\n",
        "                                window.topojson = topojson;\n",
        "                                load_all_libs();\n",
        "                            });\n",
        "                        });\n",
        "                    } else {\n",
        "                        load_all_libs();\n",
        "                    };\n",
        "               }else{\n",
        "                    console.log('Require.js not found, loading manually...')\n",
        "                    load_all_libs();\n",
        "               };\n",
        "\n",
        "           </script>"
       ],
       "metadata": {},
       "output_type": "display_data",
       "text": [
        "<IPython.core.display.HTML at 0x10c950090>"
       ]
      }
     ],
     "prompt_number": 9
    },
    {
     "cell_type": "code",
     "collapsed": false,
     "input": [
      "readdata = pd.read_csv('data/u.data', sep=',', header=None)\n",
      "beerrating = readdata[[1,2]]"
     ],
     "language": "python",
     "metadata": {},
     "outputs": [],
     "prompt_number": 10
    },
    {
     "cell_type": "code",
     "collapsed": false,
     "input": [
      "bar = vincent.Bar(beerrating.groupby(1).mean()[:40])\n",
      "bar.axis_titles(x='Beer', y='Average Rating')\n",
      "bar.colors(brew='Pastel2')\n",
      "bar.display()"
     ],
     "language": "python",
     "metadata": {},
     "outputs": [
      {
       "html": [
        "<div id=\"visd3787a4fac704178b94c5e9ba3dbdf9b\"></div>\n",
        "<script>\n",
        "   ( function() {\n",
        "     var _do_plot = function() {\n",
        "       if (typeof vg === 'undefined') {\n",
        "         window.addEventListener('vincent_libs_loaded', _do_plot)\n",
        "         return;\n",
        "       }\n",
        "       vg.parse.spec({\"axes\": [{\"scale\": \"x\", \"title\": \"Beer\", \"type\": \"x\"}, {\"scale\": \"y\", \"title\": \"Average Rating\", \"type\": \"y\"}], \"data\": [{\"name\": \"table\", \"values\": [{\"col\": 2, \"idx\": 19, \"val\": 0.924}, {\"col\": 2, \"idx\": 20, \"val\": 0.8812499999999998}, {\"col\": 2, \"idx\": 21, \"val\": 0.9132743362831868}, {\"col\": 2, \"idx\": 22, \"val\": 0.8522522522522514}, {\"col\": 2, \"idx\": 23, \"val\": 0.832558139534883}, {\"col\": 2, \"idx\": 24, \"val\": 0.7615384615384617}, {\"col\": 2, \"idx\": 25, \"val\": 0.8500000000000001}, {\"col\": 2, \"idx\": 27, \"val\": 0.8164705882352941}, {\"col\": 2, \"idx\": 28, \"val\": 0.8}, {\"col\": 2, \"idx\": 29, \"val\": 0.725547445255474}, {\"col\": 2, \"idx\": 30, \"val\": 0.64}, {\"col\": 2, \"idx\": 31, \"val\": 0.725}, {\"col\": 2, \"idx\": 32, \"val\": 0.7360323886639675}, {\"col\": 2, \"idx\": 33, \"val\": 0.6838709677419355}, {\"col\": 2, \"idx\": 34, \"val\": 0.6666666666666666}, {\"col\": 2, \"idx\": 35, \"val\": 0.6000000000000001}, {\"col\": 2, \"idx\": 36, \"val\": 0.754022988505748}, {\"col\": 2, \"idx\": 37, \"val\": 0.7}, {\"col\": 2, \"idx\": 39, \"val\": 0.7872679045092856}, {\"col\": 2, \"idx\": 40, \"val\": 0.7405797101449267}, {\"col\": 2, \"idx\": 41, \"val\": 0.8188235294117643}, {\"col\": 2, \"idx\": 42, \"val\": 0.8580152671755719}, {\"col\": 2, \"idx\": 43, \"val\": 0.6534883720930232}, {\"col\": 2, \"idx\": 44, \"val\": 0.8125000000000002}, {\"col\": 2, \"idx\": 45, \"val\": 0.7714285714285715}, {\"col\": 2, \"idx\": 46, \"val\": 0.82}, {\"col\": 2, \"idx\": 47, \"val\": 0.7571428571428571}, {\"col\": 2, \"idx\": 48, \"val\": 0.7389312977099228}, {\"col\": 2, \"idx\": 49, \"val\": 0.68}, {\"col\": 2, \"idx\": 50, \"val\": 0.7714285714285714}, {\"col\": 2, \"idx\": 51, \"val\": 0.642857142857143}, {\"col\": 2, \"idx\": 52, \"val\": 0.6166666666666666}, {\"col\": 2, \"idx\": 53, \"val\": 0.7142857142857142}, {\"col\": 2, \"idx\": 54, \"val\": 0.756756756756757}, {\"col\": 2, \"idx\": 55, \"val\": 0.6619047619047621}, {\"col\": 2, \"idx\": 56, \"val\": 0.709677419354839}, {\"col\": 2, \"idx\": 57, \"val\": 0.47014084507042103}, {\"col\": 2, \"idx\": 58, \"val\": 0.7333333333333333}, {\"col\": 2, \"idx\": 59, \"val\": 0.6615384615384615}, {\"col\": 2, \"idx\": 60, \"val\": 0.6333333333333334}]}, {\"name\": \"stats\", \"source\": \"table\", \"transform\": [{\"keys\": [\"data.idx\"], \"type\": \"facet\"}, {\"type\": \"stats\", \"value\": \"data.val\"}]}], \"height\": 500, \"legends\": [], \"marks\": [{\"from\": {\"data\": \"table\", \"transform\": [{\"keys\": [\"data.col\"], \"type\": \"facet\"}, {\"height\": \"data.val\", \"point\": \"data.idx\", \"type\": \"stack\"}]}, \"marks\": [{\"properties\": {\"enter\": {\"fill\": {\"field\": \"data.col\", \"scale\": \"color\"}, \"width\": {\"band\": true, \"offset\": -1, \"scale\": \"x\"}, \"x\": {\"field\": \"data.idx\", \"scale\": \"x\"}, \"y\": {\"field\": \"y\", \"scale\": \"y\"}, \"y2\": {\"field\": \"y2\", \"scale\": \"y\"}}}, \"type\": \"rect\"}], \"type\": \"group\"}], \"padding\": \"auto\", \"scales\": [{\"domain\": {\"data\": \"table\", \"field\": \"data.idx\"}, \"name\": \"x\", \"range\": \"width\", \"type\": \"ordinal\", \"zero\": false}, {\"domain\": {\"data\": \"stats\", \"field\": \"sum\"}, \"name\": \"y\", \"nice\": true, \"range\": \"height\"}, {\"domain\": {\"data\": \"table\", \"field\": \"data.col\"}, \"name\": \"color\", \"range\": [\"#b3e2cd\", \"#fdcdac\", \"#cbd5e8\", \"#f4cae4\", \"#e6f5c9\", \"#fff2ae\", \"#f1e2cc\", \"#cccccc\"], \"type\": \"ordinal\"}], \"width\": 960}, function(chart) {\n",
        "         chart({el: \"#visd3787a4fac704178b94c5e9ba3dbdf9b\"}).update();\n",
        "       });\n",
        "     };\n",
        "     _do_plot();\n",
        "   })();\n",
        "</script>\n",
        "<style>.vega canvas {width: 100%;}</style>\n",
        "        "
       ],
       "metadata": {},
       "output_type": "display_data",
       "text": [
        "<IPython.core.display.HTML at 0x103ea00d0>"
       ]
      }
     ],
     "prompt_number": 11
    },
    {
     "cell_type": "code",
     "collapsed": false,
     "input": [
      "readdata[0].value_counts()[:30].plot(kind='bar')"
     ],
     "language": "python",
     "metadata": {},
     "outputs": [
      {
       "metadata": {},
       "output_type": "pyout",
       "prompt_number": 12,
       "text": [
        "<matplotlib.axes.AxesSubplot at 0x109b40bd0>"
       ]
      },
      {
       "metadata": {},
       "output_type": "display_data",
       "png": "[encoded data removed]",
       "text": [
        "<matplotlib.figure.Figure at 0x10b13cd50>"
       ]
      }
     ],
     "prompt_number": 12
    },
    {
     "cell_type": "code",
     "collapsed": false,
     "input": [
      "readdata[:10]"
     ],
     "language": "python",
     "metadata": {},
     "outputs": [
      {
       "html": [
        "<div style=\"max-height:1000px;max-width:1500px;overflow:auto;\">\n",
        "<table border=\"1\" class=\"dataframe\">\n",
        "  <thead>\n",
        "    <tr style=\"text-align: right;\">\n",
        "      <th></th>\n",
        "      <th>0</th>\n",
        "      <th>1</th>\n",
        "      <th>2</th>\n",
        "    </tr>\n",
        "  </thead>\n",
        "  <tbody>\n",
        "    <tr>\n",
        "      <th>0</th>\n",
        "      <td> 65</td>\n",
        "      <td> 1274</td>\n",
        "      <td> 1.0</td>\n",
        "    </tr>\n",
        "    <tr>\n",
        "      <th>1</th>\n",
        "      <td> 65</td>\n",
        "      <td>  423</td>\n",
        "      <td> 0.2</td>\n",
        "    </tr>\n",
        "    <tr>\n",
        "      <th>2</th>\n",
        "      <td> 65</td>\n",
        "      <td> 1509</td>\n",
        "      <td> 1.0</td>\n",
        "    </tr>\n",
        "    <tr>\n",
        "      <th>3</th>\n",
        "      <td> 65</td>\n",
        "      <td>  356</td>\n",
        "      <td> 0.6</td>\n",
        "    </tr>\n",
        "    <tr>\n",
        "      <th>4</th>\n",
        "      <td> 65</td>\n",
        "      <td>  788</td>\n",
        "      <td> 0.6</td>\n",
        "    </tr>\n",
        "    <tr>\n",
        "      <th>5</th>\n",
        "      <td> 65</td>\n",
        "      <td>   32</td>\n",
        "      <td> 0.8</td>\n",
        "    </tr>\n",
        "    <tr>\n",
        "      <th>6</th>\n",
        "      <td> 65</td>\n",
        "      <td>  393</td>\n",
        "      <td> 0.4</td>\n",
        "    </tr>\n",
        "    <tr>\n",
        "      <th>7</th>\n",
        "      <td> 65</td>\n",
        "      <td> 1005</td>\n",
        "      <td> 1.0</td>\n",
        "    </tr>\n",
        "    <tr>\n",
        "      <th>8</th>\n",
        "      <td> 65</td>\n",
        "      <td>  526</td>\n",
        "      <td> 0.2</td>\n",
        "    </tr>\n",
        "    <tr>\n",
        "      <th>9</th>\n",
        "      <td> 65</td>\n",
        "      <td>   46</td>\n",
        "      <td> 1.0</td>\n",
        "    </tr>\n",
        "  </tbody>\n",
        "</table>\n",
        "</div>"
       ],
       "metadata": {},
       "output_type": "pyout",
       "prompt_number": 13,
       "text": [
        "    0     1    2\n",
        "0  65  1274  1.0\n",
        "1  65   423  0.2\n",
        "2  65  1509  1.0\n",
        "3  65   356  0.6\n",
        "4  65   788  0.6\n",
        "5  65    32  0.8\n",
        "6  65   393  0.4\n",
        "7  65  1005  1.0\n",
        "8  65   526  0.2\n",
        "9  65    46  1.0"
       ]
      }
     ],
     "prompt_number": 13
    },
    {
     "cell_type": "code",
     "collapsed": false,
     "input": [
      "beerrating_counts = beerrating.groupby(1).mean()\n",
      "beerrating_counts[:40].plot(kind='bar')"
     ],
     "language": "python",
     "metadata": {},
     "outputs": [
      {
       "metadata": {},
       "output_type": "pyout",
       "prompt_number": 14,
       "text": [
        "<matplotlib.axes.AxesSubplot at 0x10d96c810>"
       ]
      },
      {
       "metadata": {},
       "output_type": "display_data",
       "png": "[encoded data removed]",
       "text": [
        "<matplotlib.figure.Figure at 0x109ef94d0>"
       ]
      }
     ],
     "prompt_number": 14
    },
    {
     "cell_type": "code",
     "collapsed": false,
     "input": [
      "import d3py\n",
      "import networkx as nx    \n",
      "G=nx.Graph()\n",
      "G.add_edge(1,2)\n",
      "G.add_edge(1,3)\n",
      "G.add_edge(3,2)\n",
      "G.add_edge(3,4)\n",
      "G.add_edge(4,2)\n",
      " \n",
      "with d3py.NetworkXFigure(G, name=\"graph\",width=200, height=200) as p:\n",
      "    p += d3py.ForceLayout()\n",
      "    p.css['.node'] = {'fill': 'blue', 'stroke': 'magenta'}\n",
      "    p.show() "
     ],
     "language": "python",
     "metadata": {},
     "outputs": []
    },
    {
     "cell_type": "code",
     "collapsed": false,
     "input": [],
     "language": "python",
     "metadata": {},
     "outputs": [],
     "prompt_number": 16
    },
    {
     "cell_type": "code",
     "collapsed": false,
     "input": [],
     "language": "python",
     "metadata": {},
     "outputs": []
    }
   ],
   "metadata": {}
  }
 ]
}