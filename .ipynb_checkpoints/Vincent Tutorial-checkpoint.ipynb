{
 "metadata": {
  "name": "",
  "signature": "sha256:e89685688d228a08f2c3c2f32461f413d5d69b5100d102007e96e2ba1556cac1"
 },
 "nbformat": 3,
 "nbformat_minor": 0,
 "worksheets": [
  {
   "cells": [
    {
     "cell_type": "code",
     "collapsed": false,
     "input": [
      "import pandas as pd\n",
      "import random\n",
      "\n",
      "#Iterable\n",
      "list_data = [10, 20, 30, 20, 15, 30, 45]\n",
      "\n",
      "#Dicts of iterables\n",
      "cat_1 = ['y1', 'y2', 'y3', 'y4']\n",
      "index_1 = range(0, 21, 1)\n",
      "multi_iter1 = {'index': index_1}\n",
      "for cat in cat_1:\n",
      "    multi_iter1[cat] = [random.randint(10, 100) for x in index_1]\n",
      "\n",
      "cat_2 = ['y' + str(x) for x in range(0, 10, 1)]\n",
      "index_2 = range(1, 21, 1)\n",
      "multi_iter2 = {'index': index_2}\n",
      "for cat in cat_2:\n",
      "    multi_iter2[cat] = [random.randint(10, 100) for x in index_2]\n",
      "\n",
      "#Pandas\n",
      "import pandas as pd\n",
      "\n",
      "farm_1 = {'apples': 10, 'berries': 32, 'squash': 21, 'melons': 13, 'corn': 18}\n",
      "farm_2 = {'apples': 15, 'berries': 43, 'squash': 17, 'melons': 10, 'corn': 22}\n",
      "farm_3 = {'apples': 6, 'berries': 24, 'squash': 22, 'melons': 16, 'corn': 30}\n",
      "farm_4 = {'apples': 12, 'berries': 30, 'squash': 15, 'melons': 9, 'corn': 15}\n",
      "\n",
      "farm_data = [farm_1, farm_2, farm_3, farm_4]\n",
      "farm_index = ['Farm 1', 'Farm 2', 'Farm 3', 'Farm 4']\n",
      "df_farm = pd.DataFrame(farm_data, index=farm_index)\n",
      "\n",
      "#As DataFrames\n",
      "index_3 = multi_iter2.pop('index')\n",
      "df_1 = pd.DataFrame(multi_iter2, index=index_3)\n",
      "df_1 = df_1.reindex(columns=sorted(df_1.columns))\n",
      "\n",
      "cat_4 = ['Metric_' + str(x) for x in range(0, 10, 1)]\n",
      "index_4 = ['Data 1', 'Data 2', 'Data 3', 'Data 4']\n",
      "data_3 = {}\n",
      "for cat in cat_4:\n",
      "    data_3[cat] = [random.randint(10, 100) for x in index_4]\n",
      "df_2 = pd.DataFrame(data_3, index=index_4)\n"
     ],
     "language": "python",
     "metadata": {},
     "outputs": [],
     "prompt_number": 4
    },
    {
     "cell_type": "code",
     "collapsed": false,
     "input": [
      "import vincent\n",
      "bar = vincent.Bar(list_data)"
     ],
     "language": "python",
     "metadata": {},
     "outputs": [],
     "prompt_number": 5
    },
    {
     "cell_type": "code",
     "collapsed": false,
     "input": [
      "import vincent\n",
      "bar = vincent.Bar(multi_iter1['y1'])\n",
      "bar.axis_titles(x='Index', y='Value')\n",
      "bar.to_json('vega.json')"
     ],
     "language": "python",
     "metadata": {},
     "outputs": [],
     "prompt_number": 6
    },
    {
     "cell_type": "code",
     "collapsed": false,
     "input": [],
     "language": "python",
     "metadata": {},
     "outputs": []
    }
   ],
   "metadata": {}
  }
 ]
}